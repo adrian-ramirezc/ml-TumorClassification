{
 "cells": [
  {
   "cell_type": "markdown",
   "metadata": {},
   "source": [
    "# EXPLORATORY DATA ANALYSIS\n",
    "### CHARGEMENT DES DONNéES"
   ]
  },
  {
   "cell_type": "code",
   "execution_count": 56,
   "metadata": {},
   "outputs": [
    {
     "name": "stdout",
     "output_type": "stream",
     "text": [
      "Data Keys:  dict_keys(['__header__', '__version__', '__globals__', 'X', 'Y'])\n",
      "__header__:  b'MATLAB 5.0 MAT-file, Platform: PCWIN64, Created on: Tue Mar 17 16:07:27 2015'\n",
      "__version__:  1.0\n",
      "X shape: (50, 4434)\n",
      "Y shape: (50,)\n",
      "Classes:  [1 2 3 4]\n"
     ]
    }
   ],
   "source": [
    "import scipy.io\n",
    "import numpy as np\n",
    "\n",
    "data_matrix = scipy.io.loadmat(\"gliome.mat\")\n",
    "\n",
    "print(\"Data Keys: \"     ,data_matrix.keys())\n",
    "print(\"__header__: \"    ,data_matrix['__header__'])\n",
    "print(\"__version__: \"   ,data_matrix['__version__'])\n",
    "\n",
    "X = data_matrix['X']\n",
    "print(\"X shape: {}\".format(X.shape))\n",
    "\n",
    "y = data_matrix['Y'][:, 0] \n",
    "#y = y.reshape((y.shape[0],1))\n",
    "print(\"Y shape: {}\".format(y.shape))\n",
    "print(\"Classes: \",np.unique(y))"
   ]
  },
  {
   "cell_type": "markdown",
   "metadata": {},
   "source": [
    "### PCA ANALYSIS -> Choosing 2 features"
   ]
  },
  {
   "cell_type": "code",
   "execution_count": 57,
   "metadata": {},
   "outputs": [
    {
     "name": "stdout",
     "output_type": "stream",
     "text": [
      "(50, 2)\n"
     ]
    }
   ],
   "source": [
    "from sklearn.preprocessing import StandardScaler\n",
    "from sklearn.decomposition import PCA\n",
    "\n",
    "\n",
    "# Standardizing the features\n",
    "X_std = StandardScaler().fit_transform(X)\n",
    "\n",
    "# PCA projection to 2D\n",
    "pca = PCA(n_components = 2)\n",
    "principalComponents = pca.fit_transform(X_std)\n",
    "print(principalComponents.shape)"
   ]
  },
  {
   "cell_type": "markdown",
   "metadata": {},
   "source": [
    "### PCA Analysis -> PLOT"
   ]
  },
  {
   "cell_type": "code",
   "execution_count": 69,
   "metadata": {},
   "outputs": [
    {
     "data": {
      "image/png": "[encoded data removed]",
      "text/plain": [
       "<Figure size 576x576 with 1 Axes>"
      ]
     },
     "metadata": {
      "needs_background": "light"
     },
     "output_type": "display_data"
    }
   ],
   "source": [
    "import matplotlib.pyplot as plt\n",
    "\n",
    "fig = plt.figure(figsize = (8,8))\n",
    "ax = fig.add_subplot(1,1,1) \n",
    "ax.set_xlabel('Principal Component 1', fontsize = 15)\n",
    "ax.set_ylabel('Principal Component 2', fontsize = 15)\n",
    "ax.set_title('2 component PCA', fontsize = 20)\n",
    "\n",
    "targets = [1,2,3,4]\n",
    "colors = ['r', 'g', 'b', 'k']\n",
    "for target, color in zip(targets,colors):\n",
    "    indicesToKeep = np.array(np.where(y == target))\n",
    "    indicesToKeep = indicesToKeep[0,:]\n",
    "    ax.scatter(principalComponents[indicesToKeep,0]\n",
    "               , principalComponents[indicesToKeep,1]\n",
    "               , c = color\n",
    "               , s = 50)\n",
    "ax.legend(targets)\n",
    "ax.grid()"
   ]
  },
  {
   "cell_type": "markdown",
   "metadata": {},
   "source": [
    "### PCA Analysis -> Variance Analysis"
   ]
  },
  {
   "cell_type": "code",
   "execution_count": 59,
   "metadata": {},
   "outputs": [
    {
     "name": "stdout",
     "output_type": "stream",
     "text": [
      "[0.3666784  0.10752368]\n",
      "0.4742020834860426\n"
     ]
    }
   ],
   "source": [
    "var_ratio = pca.explained_variance_ratio_\n",
    "print(var_ratio)\n",
    "print(np.sum(var_ratio))"
   ]
  },
  {
   "cell_type": "markdown",
   "metadata": {},
   "source": [
    "### Comment: TWO components do not gather enough information about the data. The first component contains 36.66% of the information, and the second component contains 10.75%. The two principal components can not divide the samples in 4 groups. This can be corroborated also by looking the plot.     "
   ]
  },
  {
   "cell_type": "markdown",
   "metadata": {},
   "source": [
    "### PCA Analysis -> 95% of variance retained "
   ]
  },
  {
   "cell_type": "code",
   "execution_count": 60,
   "metadata": {},
   "outputs": [
    {
     "name": "stdout",
     "output_type": "stream",
     "text": [
      "Total Variance 95.16273410314479 %\n",
      "Number of Principal Components 36\n"
     ]
    }
   ],
   "source": [
    "pca = PCA(.95)\n",
    "pca.fit_transform(X_std)\n",
    "var_ratio = pca.explained_variance_ratio_\n",
    "print(\"Total Variance\", np.sum(var_ratio)*100, \"%\")\n",
    "print(\"Number of Principal Components\", pca.n_components_)"
   ]
  },
  {
   "cell_type": "markdown",
   "metadata": {},
   "source": [
    "### Conclusion: We can reduce the number of features by applying PCA transformation to the data. For example, the initial 4434 features can be reduced to approx 36 features preserving 95% of information of the variance."
   ]
  },
  {
   "cell_type": "markdown",
   "metadata": {},
   "source": [
    "# RANDOM FOREST CLASSIFIER\n",
    "### SPLIT DATA INTO TRAINING AND TEST SETS\n",
    "### TRAINING AND TESTING"
   ]
  },
  {
   "cell_type": "markdown",
   "metadata": {},
   "source": [
    "The available data for training and testing our classification model is small (ONLY 50 SAMPLES). Therefore, we will used \"Leave One Out Cross Validation\". In other words data splitting will not be necessary. The model will be trained with 49 samples and will be validated with one sample.\n",
    "The accuracy of the model will be described by the mean and standard deviation of all the iterations. "
   ]
  },
  {
   "cell_type": "code",
   "execution_count": 61,
   "metadata": {},
   "outputs": [
    {
     "name": "stdout",
     "output_type": "stream",
     "text": [
      "              precision    recall  f1-score   support\n",
      "\n",
      "           1     0.8125    0.9286    0.8667        14\n",
      "           2     1.0000    0.2857    0.4444         7\n",
      "           3     0.6875    0.7857    0.7333        14\n",
      "           4     0.6875    0.7333    0.7097        15\n",
      "\n",
      "    accuracy                         0.7400        50\n",
      "   macro avg     0.7969    0.6833    0.6885        50\n",
      "weighted avg     0.7662    0.7400    0.7231        50\n",
      "\n",
      "Average Precision:  0.796875\n"
     ]
    }
   ],
   "source": [
    "# loocv to manually evaluate the performance of a random forest classifier\n",
    "from sklearn.model_selection import LeaveOneOut\n",
    "from sklearn.preprocessing import StandardScaler\n",
    "from sklearn.ensemble import RandomForestClassifier\n",
    "from sklearn import metrics\n",
    "\n",
    "# create loocv procedure\n",
    "loocv = LeaveOneOut()\n",
    "scaler = StandardScaler()\n",
    "\n",
    "# enumerate splits\n",
    "y_true, y_pred = list(), list()\n",
    "\n",
    "for train_ix, test_ix in loocv.split(X):\n",
    "\t# split data\n",
    "\tX_train, X_test = X[train_ix, :], X[test_ix, :]\n",
    "\ty_train, y_test = y[train_ix], y[test_ix]\n",
    "\n",
    "\t# Fit on training set only\n",
    "\tscaler.fit(X_train)\n",
    "\n",
    "\t# Apply transform to both the training set and the test set.\n",
    "\tX_train = scaler.transform(X_train)\n",
    "\tX_test  = scaler.transform(X_test)\n",
    "\n",
    "\t# Apply PCA\n",
    "\tpca = PCA(0.95)\n",
    "\tpca.fit(X_train)\n",
    "\n",
    "\t# Apply the mapping (transform) to both the training set and the test set\n",
    "\tX_train = pca.transform(X_train)\n",
    "\tX_test  = pca.transform(X_test)\n",
    "\t\n",
    "\t# Fit model\n",
    "\n",
    "\tmodel = RandomForestClassifier(n_estimators=10, random_state= 0, bootstrap=True)\n",
    "\tmodel.fit(X_train, y_train)\n",
    "\t\n",
    "\t# Evaluate model\n",
    "\tyhat = model.predict(X_test)\n",
    "\t# store\n",
    "\ty_true.append(y_test[0])\n",
    "\ty_pred.append(yhat[0])\n",
    "\n",
    "\n",
    "print(metrics.classification_report(y_true = y_true, y_pred = y_pred, digits=4))\n",
    "print(\"Average Precision: \",metrics.precision_score(y_true = y_true, y_pred = y_pred, average='macro'))"
   ]
  },
  {
   "cell_type": "markdown",
   "metadata": {},
   "source": [
    "# NOTE: We observe many ways to evaluate the Classification Model. In this particular case, we are interested in what proportion of positive identifications was actually correct, therefore we calculate the PRECISION, in particular the AVERAGE PRECISION.\n",
    "\n",
    "# For RandomForestClassiffier = 0.8"
   ]
  },
  {
   "cell_type": "code",
   "execution_count": 62,
   "metadata": {},
   "outputs": [
    {
     "data": {
      "image/png": "[encoded data removed]",
      "text/plain": [
       "<Figure size 432x288 with 2 Axes>"
      ]
     },
     "metadata": {
      "needs_background": "light"
     },
     "output_type": "display_data"
    }
   ],
   "source": [
    "import seaborn as sns\n",
    "cm = metrics.confusion_matrix(y_true=y_true, y_pred=y_pred)\n",
    "ax = sns.heatmap(cm, cmap='coolwarm', annot=cm)\n",
    "ax.set_xlabel('True label')\n",
    "ax.set_ylabel('Predicted label')\n",
    "plt.show()"
   ]
  },
  {
   "cell_type": "markdown",
   "metadata": {},
   "source": [
    "### NOTE:\n",
    "### We observed 10 misclassified samples out of 50.\n",
    "### We train the model using only 36 features which were calculated using PCA\n",
    "### The best hyperparameter \"number of trees\" was calculated by try/error "
   ]
  },
  {
   "cell_type": "markdown",
   "metadata": {},
   "source": [
    "# LOGISTIC REGRESSION\n",
    "### SPLIT DATA INTO TRAINING AND TEST SETS\n",
    "### TRAINING AND TESTING"
   ]
  },
  {
   "cell_type": "markdown",
   "metadata": {},
   "source": [
    "In the same way as with Random Forest, we will use \"Leave One Out Cross Validation\" due to the small number of samples. "
   ]
  },
  {
   "cell_type": "code",
   "execution_count": 63,
   "metadata": {},
   "outputs": [
    {
     "name": "stdout",
     "output_type": "stream",
     "text": [
      "              precision    recall  f1-score   support\n",
      "\n",
      "           1     0.8125    0.9286    0.8667        14\n",
      "           2     1.0000    0.5714    0.7273         7\n",
      "           3     0.8462    0.7857    0.8148        14\n",
      "           4     0.8235    0.9333    0.8750        15\n",
      "\n",
      "    accuracy                         0.8400        50\n",
      "   macro avg     0.8705    0.8048    0.8209        50\n",
      "weighted avg     0.8515    0.8400    0.8351        50\n",
      "\n",
      "Average Precision:  0.8705458144796381\n"
     ]
    }
   ],
   "source": [
    "# loocv to manually evaluate the performance of a logistic regression\n",
    "from sklearn.model_selection import LeaveOneOut\n",
    "from sklearn.preprocessing import StandardScaler\n",
    "from sklearn import metrics\n",
    "from sklearn.linear_model import LogisticRegression\n",
    "\n",
    "# create loocv procedure\n",
    "loocv = LeaveOneOut()\n",
    "scaler = StandardScaler()\n",
    "\n",
    "# enumerate splits\n",
    "y_true, y_pred = list(), list()\n",
    "\n",
    "C = 20\n",
    "penalty='l2'\n",
    "\n",
    "for train_ix, test_ix in loocv.split(X):\n",
    "\t# split data\n",
    "\tX_train, X_test = X[train_ix, :], X[test_ix, :]\n",
    "\ty_train, y_test = y[train_ix], y[test_ix]\n",
    "\n",
    "\t# Fit on training set only\n",
    "\tscaler.fit(X_train)\n",
    "\n",
    "\t# Apply transform to both the training set and the test set.\n",
    "\tX_train = scaler.transform(X_train)\n",
    "\tX_test  = scaler.transform(X_test)\n",
    "\n",
    "\t# Apply PCA\n",
    "\tpca = PCA(0.95)\n",
    "\tpca.fit(X_train)\n",
    "\n",
    "\t# Apply the mapping (transform) to both the training set and the test set\n",
    "\tX_train = pca.transform(X_train)\n",
    "\tX_test  = pca.transform(X_test)\n",
    "\t\n",
    "\t# Fit model\n",
    "\n",
    "\tmodel_log = LogisticRegression(C=C, max_iter=500)\n",
    "\tmodel_log.fit(X_train, y_train)\n",
    "\t\n",
    "\t# Evaluate model\n",
    "\tyhat = model_log.predict(X_test)\n",
    "\t# store\n",
    "\ty_true.append(y_test[0])\n",
    "\ty_pred.append(yhat[0])\n",
    "\n",
    "\n",
    "print(metrics.classification_report(y_true = y_true, y_pred = y_pred, digits=4))\n",
    "print(\"Average Precision: \",metrics.precision_score(y_true = y_true, y_pred = y_pred, average='macro'))"
   ]
  },
  {
   "cell_type": "markdown",
   "metadata": {},
   "source": [
    "## We see an average precision of 0.87\n",
    "\n",
    "### This shows a that logistic regression has a better performance than the random forest classifier"
   ]
  },
  {
   "cell_type": "code",
   "execution_count": 64,
   "metadata": {},
   "outputs": [
    {
     "data": {
      "image/png": "[encoded data removed]",
      "text/plain": [
       "<Figure size 432x288 with 2 Axes>"
      ]
     },
     "metadata": {
      "needs_background": "light"
     },
     "output_type": "display_data"
    }
   ],
   "source": [
    "import seaborn as sns\n",
    "cm = metrics.confusion_matrix(y_true=y_true, y_pred=y_pred)\n",
    "ax = sns.heatmap(cm, cmap='coolwarm', annot=cm)\n",
    "ax.set_xlabel('True label')\n",
    "ax.set_ylabel('Predicted label')\n",
    "plt.show()"
   ]
  },
  {
   "cell_type": "markdown",
   "metadata": {},
   "source": [
    "### From the confusion matrix:\n",
    "### We observe only 8 misclassified samples out of 50.\n",
    "### There is an overall high precision and recall, except for the recall when classifying the second class. Both classifiers, random forest and logistic regression have a high precision but low recall in this class.\n",
    "### With this model we can obtain a better precision and recall than with the random forest.\n",
    "### The best hyperparameter \"C\" was obtained by try/error "
   ]
  },
  {
   "cell_type": "markdown",
   "metadata": {},
   "source": [
    "# Feature importance based on feature permutation\n",
    "Permutation feature importance overcomes limitations of the impurity-based feature importance: they do not have a bias toward high-cardinality features and can be computed on a left-out test set."
   ]
  },
  {
   "cell_type": "code",
   "execution_count": 65,
   "metadata": {},
   "outputs": [
    {
     "data": {
      "text/plain": [
       "RandomForestClassifier(n_estimators=10, random_state=0)"
      ]
     },
     "execution_count": 65,
     "metadata": {},
     "output_type": "execute_result"
    }
   ],
   "source": [
    "# split data\n",
    "X_train = X\n",
    "y_train = y\n",
    "\n",
    "# Fit on training set only\n",
    "scaler.fit(X_train)\n",
    "\n",
    "# Apply transform to both the training set and the test set.\n",
    "X_train = scaler.transform(X_train)\n",
    "\n",
    "# Apply PCA\n",
    "pca = PCA(0.95)\n",
    "pca.fit(X_train)\n",
    "\n",
    "# Apply the mapping (transform) to both the training set and the test set\n",
    "X_train = pca.transform(X_train)\n",
    "\n",
    "# Fit model\n",
    "forest = RandomForestClassifier(n_estimators=10, random_state= 0, bootstrap=True)\n",
    "forest.fit(X_train, y_train)"
   ]
  },
  {
   "cell_type": "code",
   "execution_count": 66,
   "metadata": {},
   "outputs": [],
   "source": [
    "from sklearn.inspection import permutation_importance\n",
    "import pandas as pd\n",
    "\n",
    "X_train_shape = np.shape(X_train)\n",
    "feature_names = [f\"Imp Feat {i+1}\" for i in range(X_train_shape[1])]\n",
    "result = permutation_importance(forest, X_train, y_train, n_repeats=10, random_state=0, n_jobs=2)\n",
    "\n",
    "forest_importances = pd.Series(result.importances_mean, index=feature_names)  "
   ]
  },
  {
   "cell_type": "code",
   "execution_count": 67,
   "metadata": {},
   "outputs": [
    {
     "data": {
      "image/png": "[encoded data removed]",
      "text/plain": [
       "<Figure size 432x288 with 1 Axes>"
      ]
     },
     "metadata": {
      "needs_background": "light"
     },
     "output_type": "display_data"
    }
   ],
   "source": [
    "fig, ax = plt.subplots()\n",
    "forest_importances.plot.bar(yerr=result.importances_std, ax=ax)\n",
    "ax.set_title(\"Feature importances using permutation on full model\")\n",
    "ax.set_ylabel(\"Mean accuracy decrease\")\n",
    "fig.tight_layout()\n",
    "plt.show()"
   ]
  },
  {
   "cell_type": "markdown",
   "metadata": {},
   "source": [
    "## ANALYSIS: We see that the most important features for the model based on Random Forest are: Feature 1,8,13,2,5. However these features represents the transformation that maximizes the variance. Therefore, after using PCA we lost the sense of the real features.  "
   ]
  },
  {
   "cell_type": "code",
   "execution_count": 90,
   "metadata": {},
   "outputs": [
    {
     "name": "stdout",
     "output_type": "stream",
     "text": [
      "\n",
      "1st binary classification\n",
      "3 0.17929939328551803\n",
      "5 0.1757801577965714\n",
      "1 0.14322259587698083\n",
      "7 0.13771929925145912\n",
      "9 0.10771524543638758\n",
      "\n",
      "2nd binary classification\n",
      "1 0.1893112380343433\n",
      "7 0.14496140324149917\n",
      "18 0.097514106001752\n",
      "15 0.09402735558388899\n",
      "3 0.09059912101064795\n",
      "\n",
      "3rd binary classification\n",
      "8 0.3203176543671906\n",
      "5 0.2088503231440963\n",
      "6 0.2004649236689071\n",
      "1 0.13782484861619082\n",
      "31 0.13255339916722578\n",
      "\n",
      "4th binary classification\n",
      "5 0.30055148914876506\n",
      "8 0.25722241502079707\n",
      "1 0.19470898528447214\n",
      "6 0.18856406985129617\n",
      "9 0.18583817051920526\n"
     ]
    }
   ],
   "source": [
    "from operator import itemgetter\n",
    "# for first binary classification (classes 1 and 2) \n",
    "# get importance\n",
    "importance = abs(model_log.coef_[0])\n",
    "l = [i for i in range(1,len(importance))]\n",
    "feat1 = list(zip(l,importance))\n",
    "feat1.sort(key=itemgetter(1), reverse= True)\n",
    "print(\"\\n1st binary classification\")\n",
    "for a,b in feat1[:5]:\n",
    "    print(a,b)\n",
    "\n",
    "# we do the same for each binary classification and find the most important features in each one\n",
    "\n",
    "# for the second binary classification\n",
    "# get importance\n",
    "importance = abs(model_log.coef_[1])\n",
    "feat2 = list(zip(l,importance))\n",
    "feat2.sort(key=itemgetter(1), reverse= True)\n",
    "print(\"\\n2nd binary classification\")\n",
    "for a,b in feat2[:5]:\n",
    "    print(a,b)\n",
    "    \n",
    "# for the third binary classification\n",
    "# get importance\n",
    "importance = abs(model_log.coef_[2])\n",
    "feat3 = list(zip(l,importance))\n",
    "feat3.sort(key=itemgetter(1), reverse= True)\n",
    "print(\"\\n3rd binary classification\")\n",
    "for a,b in feat3[:5]:\n",
    "    print(a,b)\n",
    "    \n",
    "# for thefourth binary classification\n",
    "# get importance\n",
    "importance = abs(model_log.coef_[3])\n",
    "feat4 = list(zip(l,importance))\n",
    "feat4.sort(key=itemgetter(1), reverse= True)\n",
    "print(\"\\n4th binary classification\")\n",
    "for a,b in feat4[:5]:\n",
    "    print(a,b)"
   ]
  },
  {
   "cell_type": "markdown",
   "metadata": {},
   "source": [
    "### From the given tables we can say that the most important features are features 1,5 and 3\n",
    "#### Two of this features where also found as the most important for the random forest model."
   ]
  }
 ],
 "metadata": {
  "interpreter": {
   "hash": "57c242f9c4079a7c3ceff1aa2ec1fa562494928a4f216ccafec4ecb8f4931454"
  },
  "kernelspec": {
   "display_name": "Python 3 (ipykernel)",
   "language": "python",
   "name": "python3"
  },
  "language_info": {
   "codemirror_mode": {
    "name": "ipython",
    "version": 3
   },
   "file_extension": ".py",
   "mimetype": "text/x-python",
   "name": "python",
   "nbconvert_exporter": "python",
   "pygments_lexer": "ipython3",
   "version": "3.9.7"
  }
 },
 "nbformat": 4,
 "nbformat_minor": 2
}
